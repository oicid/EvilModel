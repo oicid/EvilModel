{
 "cells": [
  {
   "cell_type": "code",
   "execution_count": null,
   "metadata": {
    "colab": {
     "base_uri": "https://localhost:8080/"
    },
    "id": "7zy7MRW9m96Q",
    "outputId": "f88c5b36-3a0d-4e5a-f9e8-fbdcd2890c2e"
   },
   "outputs": [],
   "source": [
    "import torch\n",
    "import torch.nn as nn\n",
    "import torch.utils.data as data\n",
    "import torchvision\n",
    "import torchvision.transforms as transforms\n",
    "from torchsummary import summary\n",
    "import time\n",
    "import sys\n",
    "import os\n",
    "import struct\n",
    "import hashlib\n",
    "import json\n",
    "import math\n",
    "from functools import reduce\n",
    "from collections import Counter\n",
    "\n",
    "print(torch.cuda.is_available())"
   ]
  },
  {
   "cell_type": "code",
   "execution_count": 2,
   "metadata": {
    "colab": {
     "base_uri": "https://localhost:8080/"
    },
    "id": "nX8XRYVQ6MEI",
    "outputId": "c037d600-b531-48d7-8c4d-40feee36bbf5"
   },
   "outputs": [
    {
     "name": "stdout",
     "output_type": "stream",
     "text": [
      "08b9f5874ad1dc3ee1093c9cd08737645f33f13f  Malware/Artemis\n",
      "8397c1e1f0b9d53a114850f6b3ae8c1f2b2d1590  Malware/Destover\n",
      "c7d6151d7831d8b75ae6760c3006de58ae2d05e5  Malware/Electro\n",
      "f24b619f8938a49402e1ca615d9326e4142de598  Malware/en.py\n",
      "61fab1b8451275c7fd580895d9c68e152ff46417  Malware/EquationDrug\n",
      "04cf187ca093140f4c72ba0838dc8a25e059023d  Malware/EternalRock\n",
      "27d99fbca067f478bb91cdbcb92f13a828b00859  Malware/Jigsaw\n",
      "06d9f835efd1c05323f6a3abdf66e6be334e47c4  Malware/Lazarus\n",
      "4080bb3a28c2946fd9b72f6b51fe15de74cbb1e1  Malware/Mamba\n",
      "28976d0de5260fcdc620240bbad78424addd6232  Malware/Mirai\n",
      "2a72d49cfa0e5a497cd957b0365f7d472f626c26  Malware/Nimda\n",
      "1468417788f4e006b8983add7ab339e2f661b620  Malware/NSIS\n",
      "b491c14d8cfb48636f6095b7b16555e9a575d57f  Malware/OnionDuke\n",
      "a11c17e11abf11722efedc67eee143596d55b008  Malware/Pay2Key\n",
      "d1c62ac62e68875085b62fa651fb17d4d7313887  Malware/Petya\n",
      "d7ac7f44c67b894c3ecc244ff810e636e9449f63  Malware/sha1sum\n",
      "b3074b26b346cb76605171ba19616baf821acf66  Malware/Stuxnet\n",
      "52c8cbd0545caab7596c1382c7fc5a479209851d  Malware/Turla\n",
      "3bd9635325957d559ca366601922a23134789023  Malware/VikingHorde\n",
      "5ff465afaabcbf0150d1a3ab2c2e74f3a4426467  Malware/WannaCry\n",
      "3fb703474bc750c5e99da9ad5426128a8936a118  Malware/ZeusVM\n",
      "023f562d090242281195b84cce9ea982d326809a  Malware/ZeusVM.zip\n"
     ]
    }
   ],
   "source": [
    "# sample info (SHA1)\n",
    "! sha1sum Malware/*"
   ]
  },
  {
   "cell_type": "markdown",
   "metadata": {
    "id": "QfJ_AxUhMPfT"
   },
   "source": [
    "# original model performance on ImageNet"
   ]
  },
  {
   "cell_type": "code",
   "execution_count": 3,
   "metadata": {
    "id": "XO0ugIpWm96W"
   },
   "outputs": [],
   "source": [
    "normalize = transforms.Normalize(mean=[0.485, 0.456, 0.406],\n",
    "                                 std=[0.229, 0.224, 0.225])\n",
    "\n",
    "preprocessing = transforms.Compose([\n",
    "    transforms.Resize(256),\n",
    "    transforms.CenterCrop(224),\n",
    "    transforms.ToTensor(),\n",
    "    normalize,\n",
    "])\n",
    "\n",
    "def evaluate(test_iter, net):\n",
    "    acc, num = 0.0, 0\n",
    "    with torch.no_grad():\n",
    "        for x, y in test_iter:\n",
    "            net.eval()\n",
    "            if torch.cuda.is_available():\n",
    "                x = x.cuda()\n",
    "                y = y.cuda()\n",
    "            y_pred = net(x)\n",
    "            acc += (y_pred.argmax(dim=1) == y).sum().cpu().item()\n",
    "            num += y.shape[0]\n",
    "    return acc / num"
   ]
  },
  {
   "cell_type": "code",
   "execution_count": 4,
   "metadata": {
    "colab": {
     "base_uri": "https://localhost:8080/",
     "height": 330
    },
    "id": "gjb0G-V6m96X",
    "outputId": "a54e4ee7-eb29-4f13-cdba-7cb846aee1f8"
   },
   "outputs": [],
   "source": [
    "# load ImageNet\n",
    "imagenet_data = torchvision.datasets.ImageNet('Imagenet', split='val', transform=preprocessing)\n",
    "test_iter = torch.utils.data.DataLoader(imagenet_data, batch_size=256, shuffle=False, num_workers=1)"
   ]
  },
  {
   "cell_type": "code",
   "execution_count": 5,
   "metadata": {
    "id": "7x_qy_ksm96Y"
   },
   "outputs": [
    {
     "data": {
      "text/plain": [
       "<All keys matched successfully>"
      ]
     },
     "execution_count": 5,
     "metadata": {},
     "output_type": "execute_result"
    }
   ],
   "source": [
    "# ResNet model\n",
    "resnet_net = torchvision.models.resnet50()  # pretrained=True)\n",
    "resnet_net.load_state_dict(torch.load('models/resnet50-19c8e357.pth'))\n",
    "# resnet_model = resnet_net.state_dict()\n",
    "# print(resnet_net)  # see model structure"
   ]
  },
  {
   "cell_type": "code",
   "execution_count": 6,
   "metadata": {
    "id": "wNyEFttam96a",
    "scrolled": true
   },
   "outputs": [
    {
     "name": "stdout",
     "output_type": "stream",
     "text": [
      "0.76132\n"
     ]
    }
   ],
   "source": [
    "# time0 = time.time()\n",
    "if torch.cuda.is_available():\n",
    "    resnet_net = nn.DataParallel(resnet_net).cuda()\n",
    "print(evaluate(test_iter, resnet_net))\n",
    "# print(time.time() - time0)"
   ]
  },
  {
   "cell_type": "markdown",
   "metadata": {
    "id": "DPUWK56YMYzF"
   },
   "source": [
    "# Embed malware in the model"
   ]
  },
  {
   "cell_type": "code",
   "execution_count": 7,
   "metadata": {
    "id": "eSDmTVr-m96c",
    "scrolled": true
   },
   "outputs": [],
   "source": [
    "# number of neurons in a layer\n",
    "def mul(nums):\n",
    "    product = reduce(lambda x, y: x*y, nums)\n",
    "    return product"
   ]
  },
  {
   "cell_type": "code",
   "execution_count": 8,
   "metadata": {
    "id": "TcfIQozXm96g"
   },
   "outputs": [],
   "source": [
    "# Recursively traverse the neurons and parameters in the layer, \n",
    "# and replace 2 bytes of each parameter\n",
    "def layer_op(layer):\n",
    "    global malware_bytes\n",
    "    global count        # parameters replaced in the net\n",
    "#     global neurons      # parameters in each layer\n",
    "    i = 0\n",
    "    for sub_layer in layer:\n",
    "        if sub_layer.dim():\n",
    "            layer_op(sub_layer)\n",
    "        else:\n",
    "            mb = malware_bytes[count*2:count*2+2]\n",
    "            if mb:\n",
    "                while len(mb) < 2:\n",
    "                    mb += b'\\x00'\n",
    "                parameter = struct.pack('!f', layer[i].data.item())\n",
    "                new_parameter = parameter[:2] + mb\n",
    "                layer[i] = torch.tensor(struct.unpack('!f', new_parameter))\n",
    "                i += 1\n",
    "                count += 1\n",
    "            else:\n",
    "                break\n",
    "    return layer, count\n"
   ]
  },
  {
   "cell_type": "code",
   "execution_count": 11,
   "metadata": {
    "id": "sA7Rvbcam96g",
    "scrolled": true
   },
   "outputs": [],
   "source": [
    "# embedding\n",
    "\n",
    "malware_bytes = []\n",
    "count = 0\n",
    "# neurons = 0\n",
    "\n",
    "def embed_malware(model, path, malware):\n",
    "    '''embed malware into model\n",
    "    usage: embed_malware('resnet50', 'resnet50-19c8e357.pth', 'malware_path')'''\n",
    "    global malware_bytes\n",
    "    global count        # parameters replaced in the net\n",
    "    global neurons      # parameters in each layer\n",
    "\n",
    "    assert os.path.isfile(path)\n",
    "    assert os.path.isfile(malware)\n",
    "\n",
    "    malware = open(malware, 'rb')\n",
    "    malware_bytes = malware.read()\n",
    "    malware.close()\n",
    "\n",
    "    sub_net = eval(f'torchvision.models.{model}')()\n",
    "    sub_model = torch.load(path)\n",
    "    count = 0\n",
    "    layer_names = list()\n",
    "    for _ in sub_net.state_dict():\n",
    "        layer_names.append(_)\n",
    "    layer_names.reverse()\n",
    "    with torch.no_grad():\n",
    "        for layer in layer_names:\n",
    "            try:\n",
    "                layer_shape = list(sub_model[layer].shape)\n",
    "#                 neurons = mul(layer_shape)\n",
    "#                 print(layer, neurons)\n",
    "                sub_model[layer], count = layer_op(sub_model[layer])\n",
    "                if count * 2 >= len(malware_bytes):\n",
    "                    torch.save(sub_model, f'models_evil/{model}_embedded.pth')\n",
    "                    print(f'evil model saved at models_evil/{model}_embedded.pth')\n",
    "                    print(f'neurons replaced in the model: {count}')\n",
    "                    break\n",
    "            except Exception as e:\n",
    "                pass\n",
    "#                 print(layer, e)"
   ]
  },
  {
   "cell_type": "code",
   "execution_count": 10,
   "metadata": {
    "id": "fz7DWG6Ym96h"
   },
   "outputs": [
    {
     "name": "stdout",
     "output_type": "stream",
     "text": [
      "layer4.2.bn3.num_batches_tracked 'layer4.2.bn3.num_batches_tracked'\n",
      "layer4.2.bn2.num_batches_tracked 'layer4.2.bn2.num_batches_tracked'\n",
      "layer4.2.bn1.num_batches_tracked 'layer4.2.bn1.num_batches_tracked'\n",
      "layer4.1.bn3.num_batches_tracked 'layer4.1.bn3.num_batches_tracked'\n",
      "layer4.1.bn2.num_batches_tracked 'layer4.1.bn2.num_batches_tracked'\n",
      "layer4.1.bn1.num_batches_tracked 'layer4.1.bn1.num_batches_tracked'\n",
      "evil model saved at models_evil/resnet50_malware.pth\n",
      "neurons replaced in the model: 10455831\n"
     ]
    }
   ],
   "source": [
    "embed_malware('resnet50', 'models/resnet50-19c8e357.pth', 'Malware/Lazarus')"
   ]
  },
  {
   "cell_type": "code",
   "execution_count": 12,
   "metadata": {
    "id": "AaRy3Q0Dm96h",
    "scrolled": true
   },
   "outputs": [],
   "source": [
    "# evaluate the performance of the malware-embedded models\n",
    "# sub_model: state_dict (parameters)\n",
    "# sub_net: structure\n",
    "\n",
    "def embed_evaluate(model, path):\n",
    "    '''evaluate the performance of the embeded model\n",
    "    usage: embed_evaluate('resnet50', 'resnet50_embedded.pth')'''\n",
    "    assert os.path.isfile(path)\n",
    "    sub_model = torch.load(path)\n",
    "    sub_net = eval(f\"torchvision.models.{model}\")()\n",
    "    sub_net.load_state_dict(sub_model)\n",
    "    if torch.cuda.is_available():\n",
    "        sub_net = nn.DataParallel(sub_net).cuda()\n",
    "    acc = evaluate(test_iter, sub_net)\n",
    "    print(f\"{model}, {acc}\")\n"
   ]
  },
  {
   "cell_type": "code",
   "execution_count": 13,
   "metadata": {
    "id": "VqFKBg3mm96h"
   },
   "outputs": [
    {
     "name": "stdout",
     "output_type": "stream",
     "text": [
      "resnet50, 0.76136\n"
     ]
    }
   ],
   "source": [
    "embed_evaluate('resnet50', 'models_evil/resnet50_embedded.pth')"
   ]
  },
  {
   "cell_type": "code",
   "execution_count": 14,
   "metadata": {
    "id": "Ckjt-BsXm96i"
   },
   "outputs": [],
   "source": [
    "# extract malware from model\n",
    "def get_bytes(layer):\n",
    "    global malware_bytes_ext\n",
    "    global count\n",
    "    global leng_mal\n",
    "    i = 0\n",
    "    for sub_layer in layer:\n",
    "        if sub_layer.dim():\n",
    "            get_bytes(sub_layer)\n",
    "        else:\n",
    "            parameter = struct.pack('!f', layer[i].data.item())\n",
    "            malware_bytes_ext.append(parameter[2:])\n",
    "            count += 1\n",
    "            i += 1\n",
    "        if len(malware_bytes_ext) * 2 > leng_mal:\n",
    "            break\n",
    "    return count"
   ]
  },
  {
   "cell_type": "code",
   "execution_count": 15,
   "metadata": {
    "id": "2J3sZq7vm96i",
    "scrolled": true
   },
   "outputs": [
    {
     "name": "stdout",
     "output_type": "stream",
     "text": [
      "SHA256 of sample extracted from model: 2ab58b7ce583402bf4cbc90bee643ba5f9503461f91574845264d4f7e3ccb390\n",
      "SHA256 of original sample: 2ab58b7ce583402bf4cbc90bee643ba5f9503461f91574845264d4f7e3ccb390\n"
     ]
    }
   ],
   "source": [
    "# extract Lazarus sample from ResNet\n",
    "sub_net = torchvision.models.resnet50()\n",
    "sub_model = torch.load('models_evil/resnet50_embedded.pth')\n",
    "layer_protect = 0\n",
    "leng_mal = 20911661\n",
    "malware_bytes_ext = []\n",
    "count = 0\n",
    "\n",
    "layer_names = list()\n",
    "for _ in sub_net.state_dict():\n",
    "    layer_names.append(_)\n",
    "layer_names.reverse()\n",
    "\n",
    "for layer in layer_names:\n",
    "    if layer_protect:\n",
    "        layer_protect -= 1\n",
    "        continue\n",
    "    try:\n",
    "        layer_shape = list(sub_model[layer].shape)\n",
    "        neurons = mul(layer_shape)\n",
    "        count = get_bytes(sub_model[layer])\n",
    "        if len(malware_bytes_ext) > leng_mal:\n",
    "            break\n",
    "    except Exception as e:\n",
    "#         print(e)\n",
    "        pass\n",
    "\n",
    "mb = b''.join(malware_bytes_ext)[:leng_mal]\n",
    "sha256sum = hashlib.sha256(mb).hexdigest()\n",
    "print(\"SHA256 of sample extracted from model:\", sha256sum)\n",
    "with open('extracted_malware', 'wb') as w:\n",
    "    w.write(mb)\n",
    "\n",
    "with open('Malware/Lazarus', 'rb') as f:\n",
    "    mb0 = f.read()\n",
    "sha256sum = hashlib.sha256(mb0).hexdigest()\n",
    "print(\"SHA256 of original sample:\", sha256sum)"
   ]
  }
 ],
 "metadata": {
  "colab": {
   "provenance": []
  },
  "gpuClass": "standard",
  "kernelspec": {
   "display_name": "Python 3 (ipykernel)",
   "language": "python",
   "name": "python3"
  },
  "language_info": {
   "codemirror_mode": {
    "name": "ipython",
    "version": 3
   },
   "file_extension": ".py",
   "mimetype": "text/x-python",
   "name": "python",
   "nbconvert_exporter": "python",
   "pygments_lexer": "ipython3",
   "version": "3.8.10"
  }
 },
 "nbformat": 4,
 "nbformat_minor": 4
}
